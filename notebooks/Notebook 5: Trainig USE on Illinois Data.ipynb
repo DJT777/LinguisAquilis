{
 "cells": [
  {
   "cell_type": "code",
   "execution_count": 1,
   "id": "fc1bf855",
   "metadata": {},
   "outputs": [
    {
     "name": "stderr",
     "output_type": "stream",
     "text": [
      "2022-12-07 02:31:34.478623: I tensorflow/core/platform/cpu_feature_guard.cc:193] This TensorFlow binary is optimized with oneAPI Deep Neural Network Library (oneDNN) to use the following CPU instructions in performance-critical operations:  AVX2 AVX512F AVX512_VNNI FMA\n",
      "To enable them in other operations, rebuild TensorFlow with the appropriate compiler flags.\n",
      "2022-12-07 02:31:34.552493: I tensorflow/core/util/util.cc:169] oneDNN custom operations are on. You may see slightly different numerical results due to floating-point round-off errors from different computation orders. To turn them off, set the environment variable `TF_ENABLE_ONEDNN_OPTS=0`.\n",
      "2022-12-07 02:31:34.573165: E tensorflow/stream_executor/cuda/cuda_blas.cc:2981] Unable to register cuBLAS factory: Attempting to register factory for plugin cuBLAS when one has already been registered\n",
      "2022-12-07 02:31:34.957946: W tensorflow/stream_executor/platform/default/dso_loader.cc:64] Could not load dynamic library 'libnvinfer.so.7'; dlerror: libnvinfer.so.7: cannot open shared object file: No such file or directory\n",
      "2022-12-07 02:31:34.957979: W tensorflow/stream_executor/platform/default/dso_loader.cc:64] Could not load dynamic library 'libnvinfer_plugin.so.7'; dlerror: libnvinfer_plugin.so.7: cannot open shared object file: No such file or directory\n",
      "2022-12-07 02:31:34.957982: W tensorflow/compiler/tf2tensorrt/utils/py_utils.cc:38] TF-TRT Warning: Cannot dlopen some TensorRT libraries. If you would like to use Nvidia GPU with TensorRT, please make sure the missing libraries mentioned above are installed properly.\n"
     ]
    }
   ],
   "source": [
    "\n",
    "\n",
    "import pandas as pd\n",
    "import tensorflow as tf\n",
    "import tensorflow_hub as hub\n",
    "from tensorflow.keras.optimizers import Adam, SGD\n",
    "from tensorflow.keras.layers import Dense, Input, BatchNormalization, Dropout, Concatenate\n",
    "from tensorflow.keras.models import Model, Sequential\n",
    "from tensorflow.keras.callbacks import ModelCheckpoint\n",
    "from sklearn import datasets\n",
    "import numpy as np\n",
    "import os\n"
   ]
  },
  {
   "cell_type": "code",
   "execution_count": 2,
   "id": "a15e3307",
   "metadata": {},
   "outputs": [
    {
     "name": "stdout",
     "output_type": "stream",
     "text": [
      "WARNING:tensorflow:Please fix your imports. Module tensorflow.python.training.tracking.data_structures has been moved to tensorflow.python.trackable.data_structures. The old module will be deleted in version 2.11.\n"
     ]
    },
    {
     "name": "stderr",
     "output_type": "stream",
     "text": [
      "2022-12-07 02:31:37.112178: I tensorflow/stream_executor/cuda/cuda_gpu_executor.cc:980] successful NUMA node read from SysFS had negative value (-1), but there must be at least one NUMA node, so returning NUMA node zero\n",
      "2022-12-07 02:31:37.132283: I tensorflow/stream_executor/cuda/cuda_gpu_executor.cc:980] successful NUMA node read from SysFS had negative value (-1), but there must be at least one NUMA node, so returning NUMA node zero\n",
      "2022-12-07 02:31:37.132400: I tensorflow/stream_executor/cuda/cuda_gpu_executor.cc:980] successful NUMA node read from SysFS had negative value (-1), but there must be at least one NUMA node, so returning NUMA node zero\n",
      "2022-12-07 02:31:37.132766: I tensorflow/core/platform/cpu_feature_guard.cc:193] This TensorFlow binary is optimized with oneAPI Deep Neural Network Library (oneDNN) to use the following CPU instructions in performance-critical operations:  AVX2 AVX512F AVX512_VNNI FMA\n",
      "To enable them in other operations, rebuild TensorFlow with the appropriate compiler flags.\n",
      "2022-12-07 02:31:37.133270: I tensorflow/stream_executor/cuda/cuda_gpu_executor.cc:980] successful NUMA node read from SysFS had negative value (-1), but there must be at least one NUMA node, so returning NUMA node zero\n",
      "2022-12-07 02:31:37.133361: I tensorflow/stream_executor/cuda/cuda_gpu_executor.cc:980] successful NUMA node read from SysFS had negative value (-1), but there must be at least one NUMA node, so returning NUMA node zero\n",
      "2022-12-07 02:31:37.133426: I tensorflow/stream_executor/cuda/cuda_gpu_executor.cc:980] successful NUMA node read from SysFS had negative value (-1), but there must be at least one NUMA node, so returning NUMA node zero\n",
      "2022-12-07 02:31:37.438352: I tensorflow/stream_executor/cuda/cuda_gpu_executor.cc:980] successful NUMA node read from SysFS had negative value (-1), but there must be at least one NUMA node, so returning NUMA node zero\n",
      "2022-12-07 02:31:37.438477: I tensorflow/stream_executor/cuda/cuda_gpu_executor.cc:980] successful NUMA node read from SysFS had negative value (-1), but there must be at least one NUMA node, so returning NUMA node zero\n",
      "2022-12-07 02:31:37.438554: I tensorflow/stream_executor/cuda/cuda_gpu_executor.cc:980] successful NUMA node read from SysFS had negative value (-1), but there must be at least one NUMA node, so returning NUMA node zero\n",
      "2022-12-07 02:31:37.438619: I tensorflow/core/common_runtime/gpu/gpu_device.cc:1616] Created device /job:localhost/replica:0/task:0/device:GPU:0 with 9825 MB memory:  -> device: 0, name: NVIDIA GeForce RTX 3060, pci bus id: 0000:01:00.0, compute capability: 8.6\n"
     ]
    },
    {
     "name": "stdout",
     "output_type": "stream",
     "text": [
      "CPU times: user 5.78 s, sys: 504 ms, total: 6.29 s\n",
      "Wall time: 6.36 s\n"
     ]
    }
   ],
   "source": [
    "\n",
    "\n",
    "\n",
    "%%time\n",
    "module_url = 'https://tfhub.dev/google/universal-sentence-encoder-large/5'\n",
    "embed = hub.KerasLayer(module_url, input_shape=[], dtype=tf.string, trainable=True)\n"
   ]
  },
  {
   "cell_type": "code",
   "execution_count": null,
   "id": "d71ec11d",
   "metadata": {},
   "outputs": [],
   "source": [
    "n = df.course_dept.nunique()\n",
    "print(n)"
   ]
  },
  {
   "cell_type": "code",
   "execution_count": 3,
   "id": "39d13042",
   "metadata": {},
   "outputs": [],
   "source": [
    "\n",
    "\n",
    "def build_model(embed):\n",
    "    \n",
    "    model = Sequential([\n",
    "        Input(shape=[], dtype=tf.string),\n",
    "        embed,\n",
    "        Dense(256, activation='relu', kernel_regularizer=tf.keras.regularizers.L2(0.01)),\n",
    "        Dropout(0.2),\n",
    "        Dense(190, activation='softmax')\n",
    "    ])\n",
    "    model.compile(Adam(1e-4), loss='sparse_categorical_crossentropy', metrics=['accuracy'])\n",
    "    \n",
    "    return model\n",
    "\n"
   ]
  },
  {
   "cell_type": "code",
   "execution_count": 4,
   "id": "36013581",
   "metadata": {},
   "outputs": [
    {
     "name": "stdout",
     "output_type": "stream",
     "text": [
      "Model: \"sequential\"\n",
      "_________________________________________________________________\n",
      " Layer (type)                Output Shape              Param #   \n",
      "=================================================================\n",
      " keras_layer (KerasLayer)    (None, 512)               147354880 \n",
      "                                                                 \n",
      " dense (Dense)               (None, 256)               131328    \n",
      "                                                                 \n",
      " dropout (Dropout)           (None, 256)               0         \n",
      "                                                                 \n",
      " dense_1 (Dense)             (None, 190)               48830     \n",
      "                                                                 \n",
      "=================================================================\n",
      "Total params: 147,535,038\n",
      "Trainable params: 147,535,038\n",
      "Non-trainable params: 0\n",
      "_________________________________________________________________\n"
     ]
    }
   ],
   "source": [
    "model = build_model(embed)\n",
    "model.summary()"
   ]
  },
  {
   "cell_type": "code",
   "execution_count": 7,
   "id": "2fe00f17",
   "metadata": {},
   "outputs": [
    {
     "name": "stderr",
     "output_type": "stream",
     "text": [
      "/tmp/ipykernel_243579/3747785483.py:12: DeprecationWarning: `np.str` is a deprecated alias for the builtin `str`. To silence this warning, use `str` by itself. Doing this will not modify any behavior and is safe. If you specifically wanted the numpy scalar type, use `np.str_` here.\n",
      "Deprecated in NumPy 1.20; for more details and guidance: https://numpy.org/devdocs/release/1.20.0-notes.html#deprecations\n",
      "  x_train = np.asarray(x_train).astype(np.str)\n"
     ]
    }
   ],
   "source": [
    "import pandas as pd\n",
    "import sklearn\n",
    "from sklearn.model_selection import train_test_split\n",
    "from sklearn import preprocessing\n",
    "df = pd.read_csv(\"https://waf.cs.illinois.edu/discovery/course-catalog.csv\", )\n",
    "df.head()\n",
    "df2 = pd.DataFrame()\n",
    "df2[\"text\"] = df[\"Description\"]\n",
    "df2[\"label\"] = preprocessing.LabelEncoder().fit_transform(df[\"Subject\"])\n",
    "\n",
    "x_train, x_test, y_train, y_test = train_test_split(df2[\"text\"].values, df2[\"label\"].values, test_size=0.2, random_state=42)\n",
    "x_train = np.asarray(x_train).astype(np.str)\n",
    "\n",
    "listMajors = df[\"Subject\"].unique()"
   ]
  },
  {
   "cell_type": "code",
   "execution_count": 8,
   "id": "7a95b658",
   "metadata": {},
   "outputs": [
    {
     "name": "stdout",
     "output_type": "stream",
     "text": [
      "10114\n",
      "10114\n",
      "['AAS' 'ABE' 'ACCY' 'ACE' 'ACES' 'ADV' 'AE' 'AFAS' 'AFRO' 'AFST' 'AGCM'\n",
      " 'AGED' 'AHS' 'AIS' 'ALEC' 'ANSC' 'ANTH' 'ARAB' 'ARCH' 'ART' 'ARTD' 'ARTE'\n",
      " 'ARTF' 'ARTH' 'ARTJ' 'ARTS' 'ASRM' 'ASST' 'ASTR' 'ATMS' 'BADM' 'BASQ'\n",
      " 'BCOG' 'BCS' 'BDI' 'BIOC' 'BIOE' 'BIOP' 'BSE' 'BTW' 'BUS' 'CB' 'CDB'\n",
      " 'CEE' 'CHBE' 'CHEM' 'CHIN' 'CHLH' 'CHP' 'CI' 'CIC' 'CLCV' 'CLE' 'CMN'\n",
      " 'CPSC' 'CS' 'CSE' 'CW' 'CWL' 'CZCH' 'DANC' 'DTX' 'EALC' 'ECE' 'ECON'\n",
      " 'EDPR' 'EDUC' 'EIL' 'ENG' 'ENGL' 'ENSU' 'ENVS' 'EPOL' 'EPS' 'EPSY' 'ERAM'\n",
      " 'ESE' 'ESL' 'ETMA' 'EURO' 'FAA' 'FIN' 'FLTE' 'FR' 'FSHN' 'GC' 'GEOL'\n",
      " 'GER' 'GGIS' 'GLBL' 'GMC' 'GRK' 'GRKM' 'GS' 'GSD' 'GWS' 'HDFS' 'HEBR'\n",
      " 'HIST' 'HNDI' 'HORT' 'HRD' 'HT' 'HUM' 'IB' 'IE' 'IHLT' 'INFO' 'IS' 'ITAL'\n",
      " 'JAPN' 'JOUR' 'JS' 'KIN' 'KOR' 'LA' 'LAS' 'LAST' 'LAT' 'LAW' 'LCTL'\n",
      " 'LEAD' 'LER' 'LING' 'LLS' 'MACS' 'MATH' 'MBA' 'MCB' 'MDIA' 'MDVL' 'ME'\n",
      " 'MFST' 'MICR' 'MILS' 'MIP' 'MSE' 'MUS' 'MUSC' 'MUSE' 'NE' 'NEUR' 'NPRE'\n",
      " 'NRES' 'NS' 'NUTR' 'PATH' 'PERS' 'PHIL' 'PHYS' 'PLPA' 'POL' 'PORT' 'PS'\n",
      " 'PSM' 'PSYC' 'QUEC' 'REES' 'REHB' 'REL' 'RHET' 'RST' 'RUSS' 'SAME' 'SBC'\n",
      " 'SCAN' 'SE' 'SHS' 'SLAV' 'SLCL' 'SOC' 'SOCW' 'SPAN' 'SPED' 'STAT' 'SWAH'\n",
      " 'TAM' 'TE' 'THEA' 'TMGT' 'TRST' 'TURK' 'UKR' 'UP' 'VCM' 'VM' 'WLOF'\n",
      " 'WRIT' 'YDSH' 'ZULU']\n"
     ]
    }
   ],
   "source": [
    "print(len(x_train))\n",
    "print(len(y_train))\n",
    "print(listMajors)"
   ]
  },
  {
   "cell_type": "code",
   "execution_count": null,
   "id": "3917a00f",
   "metadata": {
    "scrolled": false
   },
   "outputs": [],
   "source": [
    "\n",
    "\n",
    "model.load_weights('model.h5')\n",
    "\n",
    "checkpoint = ModelCheckpoint('model.h5', monitor='val_accuracy', save_best_only=True)\n",
    "\n",
    "history = model.fit(x_train, \n",
    "          y_train, \n",
    "          batch_size=64, \n",
    "          validation_data=(x_test, y_test),\n",
    "          callbacks=[checkpoint],\n",
    "          epochs=15)"
   ]
  },
  {
   "cell_type": "code",
   "execution_count": null,
   "id": "62772220",
   "metadata": {},
   "outputs": [],
   "source": []
  },
  {
   "cell_type": "code",
   "execution_count": 9,
   "id": "19b92fda",
   "metadata": {},
   "outputs": [
    {
     "name": "stderr",
     "output_type": "stream",
     "text": [
      "2022-12-07 02:32:08.310766: I tensorflow/core/platform/default/subprocess.cc:304] Start cannot spawn child process: No such file or directory\n"
     ]
    },
    {
     "name": "stdout",
     "output_type": "stream",
     "text": [
      "1/1 [==============================] - 4s 4s/step\n",
      "512\n"
     ]
    },
    {
     "name": "stderr",
     "output_type": "stream",
     "text": [
      "2022-12-07 02:32:09.073301: I tensorflow/stream_executor/cuda/cuda_blas.cc:1614] TensorFloat-32 will be used for the matrix multiplication. This will only be logged once.\n"
     ]
    }
   ],
   "source": [
    "\n",
    "\n",
    "aux_model = tf.keras.Model(inputs=model.inputs,\n",
    "                          outputs=model.outputs + [model.get_layer(\"keras_layer\").output])\n",
    "\n",
    "final_output, intermediate_layer_output = aux_model.predict(['I want to study computers'])\n",
    "\n",
    "#print(final_output)\n",
    "print(len(intermediate_layer_output[0]))"
   ]
  },
  {
   "cell_type": "code",
   "execution_count": 42,
   "id": "5dafabb0",
   "metadata": {},
   "outputs": [
    {
     "name": "stdout",
     "output_type": "stream",
     "text": [
      "1/1 [==============================] - 0s 37ms/step\n",
      "105\n",
      "IE Accuracy: 0.043181498\n",
      "6\n",
      "AE Accuracy: 0.048660643\n",
      "166\n",
      "SE Accuracy: 0.07701385\n",
      "126\n",
      "MATH Accuracy: 0.077214375\n",
      "55\n",
      "CS Accuracy: 0.48709688\n"
     ]
    }
   ],
   "source": [
    "model.load_weights('model.h5')\n",
    "test_pred = model.predict(['I want to study computers'])\n",
    "#listMajors = sorted(os.listdir(\"/home/dylan/Desktop/batman/CS478-LinguisAquilis/notebooks/datasetMajors/\"))\n",
    "idx = np.argsort(test_pred, axis=1)[:,-5:]\n",
    "idx = np.asarray(idx, dtype=int, order=None)\n",
    "for i in idx[0]:\n",
    "    print(i)\n",
    "    print(listMajors[i] + \" Accuracy: \" + str(test_pred[0][i]))"
   ]
  },
  {
   "cell_type": "code",
   "execution_count": 45,
   "id": "13e7b2dd",
   "metadata": {},
   "outputs": [
    {
     "name": "stdout",
     "output_type": "stream",
     "text": [
      "['AAS ', ' Asian American Studies']\n",
      "['ABE ', ' Agricultural and Biological Eng']\n",
      "['ACCY ', ' Accountancy']\n",
      "['ACE ', ' Agr & Consumer Economics']\n",
      "['ACES ', ' Agr, Consumer, & Env Sciences']\n",
      "['ADV ', ' Advertising']\n",
      "['AE ', ' Aerospace Engineering']\n",
      "['AFAS ', ' Air Force Aerospace Studies']\n",
      "['AFRO ', ' African American Studies']\n",
      "['AFST ', ' African Studies']\n",
      "['AGCM ', ' Agricultural Communications']\n",
      "['AGED ', ' Agricultural Education']\n",
      "['AHS ', ' Applied Health Sci Courses']\n",
      "['AIS ', ' American Indian Studies']\n",
      "['ALEC ', ' Agricultural Leadership, Education, & Communications Program']\n",
      "['ANSC ', ' Animal Sciences']\n",
      "['ANTH ', ' Anthropology']\n",
      "['ARAB ', ' Arabic']\n",
      "['ARCH ', ' Architecture']\n",
      "['ART ', ' Art']\n",
      "['ARTD ', ' Art', '', 'Design']\n",
      "['ARTE ', ' Art', '', 'Education']\n",
      "['ARTF ', ' Art', '', 'Foundation']\n",
      "['ARTH ', ' Art', '', 'History']\n",
      "['ARTJ ', ' Japan House']\n",
      "['ARTS ', ' Art', '', 'Studio']\n",
      "['ASRM ', ' Actuarial Science & Risk Management']\n",
      "['ASST ', ' Asian Studies']\n",
      "['ASTR ', ' Astronomy']\n",
      "['ATMS ', ' Atmospheric Sciences']\n",
      "['BADM ', ' Business Administration']\n",
      "['BASQ ', ' Basque']\n",
      "['BCOG ', ' Brain and Cognitive Science']\n",
      "['BCS ', ' Bosnian', 'Croatian', 'Serbian']\n",
      "['BDI ', ' Business Data & Innovation']\n",
      "['BIOC ', ' Biochemistry']\n",
      "['BIOE ', ' Bioengineering']\n",
      "['BIOL ', ' Biology']\n",
      "['BIOP ', ' Biophysics']\n",
      "['BSE ', ' Biomedical Sciences and Engineering']\n",
      "['BTW ', ' Business and Technical Writing']\n",
      "['BULG ', ' Bulgarian']\n",
      "['BUS ', ' Business']\n",
      "['CAS ', ' Center for Advanced Study']\n",
      "['CATL ', ' Catalan']\n",
      "['CB ', ' Comparative Biosciences']\n",
      "['CDB ', ' Cell and Developmental Biology']\n",
      "['CEE ', ' Civil and Environ Engineering']\n",
      "['CHBE ', ' Chemical and Biomolecular Engineering']\n",
      "['CHEM ', ' Chemistry']\n",
      "['CHIN ', ' Chinese']\n",
      "['CHLH ', ' Community Health']\n",
      "['CHP ', ' Campus Honors Program']\n",
      "['CIC ', ' Committee on Inst Cooperation']\n",
      "['CI ', ' Curriculum and Instruction']\n",
      "['CLCV ', ' Classical Civilization']\n",
      "['CLE ', ' Clinical Sciences and Engineering']\n",
      "['CMN ', ' Communication']\n",
      "['CPSC ', ' Crop Sciences']\n",
      "['CS ', ' Computer Science']\n",
      "['CSE ', ' Computational Science and Engineering']\n",
      "['CW ', ' Creative Writing']\n",
      "['CWL ', ' Comparative & World Literature']\n",
      "['CZCH ', ' Czech']\n",
      "['DANC ', ' Dance']\n",
      "['DTX ', ' Human', 'Centered Design & Design Thinking']\n",
      "['EALC ', ' East Asian Languages & Cultures']\n",
      "['ECE ', ' Electrical and Computer Engineering']\n",
      "['ECON ', ' Economics']\n",
      "['EDPR ', ' Educational Practice']\n",
      "['EDUC ', ' Education']\n",
      "['EIL ', ' English as an Intl Language']\n",
      "['ENG ', ' Engineering']\n",
      "['ENGL ', ' English']\n",
      "['ENSU ', ' Environmental Sustainability']\n",
      "['ENT ', ' Entomology']\n",
      "['ENVS ', ' Environmental Studies']\n",
      "['EOL ', ' Educ Organization & Leadership']\n",
      "['EPOL ', ' Ed Policy, Org & Ldership']\n",
      "['EPS ', ' Educational Policy Studies']\n",
      "['EPSY ', ' Educational Psychology']\n",
      "['ERAM ', ' Education Research and Methods']\n",
      "['ESE ', ' Earth, Society, & Environment']\n",
      "['ESL ', ' English as a Second Language']\n",
      "['ETMA', ' Engineering Technology & Management for Agricultural Systems']\n",
      "['EURO ', ' European Union Studies']\n",
      "['FAA ', ' Fine and Applied Arts']\n",
      "['FIN ', ' Finance']\n",
      "['FLTE ', ' Foreign Language Teacher Education']\n",
      "['FR ', ' French']\n",
      "['FSHN ', ' Food Science & Human Nutrition']\n",
      "['GC ', ' Graduate College']\n",
      "['GEOL ', ' Geology']\n",
      "['GER ', ' German']\n",
      "['GGIS ', ' Geography & Geographic Information Science']\n",
      "['GLBL ', ' Global Studies']\n",
      "['GMC ', ' Germanic']\n",
      "['GRK ', ' Greek']\n",
      "['GRKM ', ' Modern Greek']\n",
      "['GSD ', ' Game Studies and Design']\n",
      "['GS ', ' General Studies']\n",
      "['GWS ', \" Gender and Women's Studies\"]\n",
      "['HDES ', ' Human Dimensions of Env Sys']\n",
      "['HDFS ', ' Human Dev and Family Studies']\n",
      "['HEBR ', ' Hebrew, Modern and Classical']\n",
      "['HIST ', ' History']\n",
      "['HNDI ', ' Hindi']\n",
      "['HORT ', ' Horticulture']\n",
      "['HRD ', ' Human Resource Development']\n",
      "['HT ', ' Health Technology']\n",
      "['HUM ', ' Humanities Courses']\n",
      "['IB ', ' Integrative Biology']\n",
      "['IE ', ' Industrial Engineering']\n",
      "['IHLT ', ' I', 'Health']\n",
      "['INFO ', ' Informatics']\n",
      "['IS ', ' Information Sciences']\n",
      "['ITAL ', ' Italian']\n",
      "['JAPN ', ' Japanese']\n",
      "['JOUR ', ' Journalism']\n",
      "['JS ', ' Jewish Studies']\n",
      "['KIN ', ' Kinesiology']\n",
      "['KOR ', ' Korean']\n",
      "['LA ', ' Landscape Architecture']\n",
      "['LAS ', ' Liberal Arts and Sciences']\n",
      "['LAST ', ' Latin American & Caribbean St']\n",
      "['LAT ', ' Latin']\n",
      "['LAW ', ' Law']\n",
      "['LCTL ', ' Less Commonly Taught Languages']\n",
      "['LEAD ', ' Organizational & Community Leadership']\n",
      "['LER ', ' Labor and Employment Relations']\n",
      "['LGLA ', ' Lingala']\n",
      "['LING ', ' Linguistics']\n",
      "['LLS ', ' Latina/Latino Studies']\n",
      "['MACS ', ' Media and Cinema Studies']\n",
      "['MATH ', ' Mathematics']\n",
      "['MBA ', ' MBA Program']\n",
      "['MCB ', ' Molecular and Cell Biology']\n",
      "['MDIA ', ' Media']\n",
      "['MDVL ', ' Medieval Studies']\n",
      "['ME ', ' Mechanical Engineering']\n",
      "['MFST ', ' Metropolitan Food & Environmental Systems']\n",
      "['MICR ', ' Microbiology']\n",
      "['MILS ', ' Military Science']\n",
      "['MIP ', ' Moleculr & Integrative Physiology']\n",
      "['MSE ', ' Materials Science & Engineering']\n",
      "['MSP ', ' Medical Scholars Program']\n",
      "['MUSC ', ' Music Lessons and Ensembles']\n",
      "['MUSE ', ' Museum Studies']\n",
      "['MUS ', ' Music']\n",
      "['NE ', ' Neural Engineering']\n",
      "['NEUR ', ' Neuroscience']\n",
      "['NPRE ', ' Nuclear, Plasma, Radiological Engineering']\n",
      "['NRES ', ' Natural Resources & Environ Sc']\n",
      "['NS ', ' Naval Science']\n",
      "['NUTR ', ' Nutritional Sciences']\n",
      "['PATH ', ' Pathobiology']\n",
      "['PBIO ', ' Plant Biology']\n",
      "['PERS ', ' Persian']\n",
      "['PHIL ', ' Philosophy']\n",
      "['PHYS ', ' Physics']\n",
      "['PLPA ', ' Plant Pathology']\n",
      "['POL ', ' Polish']\n",
      "['PORT ', ' Portuguese']\n",
      "['PSM ', ' Professional Science Master']\n",
      "['PS ', ' Political Science']\n",
      "['PSYC ', ' Psychology']\n",
      "['QUEC ', ' Quechua']\n",
      "['REES ', ' Russian, East European and Eurasian Studies']\n",
      "['REHB ', ' Rehabilitation Counseling']\n",
      "['REL ', ' Religion']\n",
      "['RHET ', ' Rhetoric and Composition']\n",
      "['RMLG ', ' Romance Linguistics']\n",
      "['RST ', ' Recreation, Sport, and Tourism']\n",
      "['RUSS ', ' Russian']\n",
      "['SAME ', ' South Asian & Middle Eastern']\n",
      "['SBC ', ' Strategic Brand Communication']\n",
      "['SCAN ', ' Scandinavian']\n",
      "['SE ', ' Systems Engineering and Design']\n",
      "['SHS ', ' Speech and Hearing Science']\n",
      "['SLAV ', ' Slavic']\n",
      "['SLCL ', ' Literatures Cultures Linguistics']\n",
      "['SNSK ', ' Sanskrit']\n",
      "['SOC ', ' Sociology']\n",
      "['SOCW ', ' Social Work']\n",
      "['SPAN ', ' Spanish']\n",
      "['SPED ', ' Special Education']\n",
      "['STAT ', ' Statistics']\n",
      "['SWAH ', ' Swahili']\n",
      "['TAM ', ' Theoretical and Applied Mechanics']\n",
      "['TE ', ' Technology Entrepreneurship']\n",
      "['THEA ', ' Theatre']\n",
      "['TMGT ', ' Technology and Management']\n",
      "['TRST ', ' Translation Studies']\n",
      "['TURK ', ' Turkish']\n",
      "['UKR ', ' Ukrainian']\n",
      "['UP ', ' Urban and Regional Planning']\n",
      "['VCM ', ' Veterinary Clinical Medicine']\n",
      "['VM ', ' Veterinary Medicine Courses']\n",
      "['WGGP ', ' Women and Gender in Global Perspectives']\n",
      "['WLOF ', ' Wolof']\n",
      "['WRIT ', ' Writing Studies']\n",
      "['YDSH ', ' Yiddish']\n",
      "['ZULU ', ' Zulu']\n",
      "{'AAS': ' Asian American Studies', 'ABE': ' Agricultural and Biological Eng', 'ACCY': ' Accountancy', 'ACE': ' Agr & Consumer Economics', 'ACES': ' Agr, Consumer, & Env Sciences', 'ADV': ' Advertising', 'AE': ' Aerospace Engineering', 'AFAS': ' Air Force Aerospace Studies', 'AFRO': ' African American Studies', 'AFST': ' African Studies', 'AGCM': ' Agricultural Communications', 'AGED': ' Agricultural Education', 'AHS': ' Applied Health Sci Courses', 'AIS': ' American Indian Studies', 'ALEC': ' Agricultural Leadership, Education, & Communications Program', 'ANSC': ' Animal Sciences', 'ANTH': ' Anthropology', 'ARAB': ' Arabic', 'ARCH': ' Architecture', 'ART': ' Art', 'ARTD': ' Art', 'ARTE': ' Art', 'ARTF': ' Art', 'ARTH': ' Art', 'ARTJ': ' Japan House', 'ARTS': ' Art', 'ASRM': ' Actuarial Science & Risk Management', 'ASST': ' Asian Studies', 'ASTR': ' Astronomy', 'ATMS': ' Atmospheric Sciences', 'BADM': ' Business Administration', 'BASQ': ' Basque', 'BCOG': ' Brain and Cognitive Science', 'BCS': ' Bosnian', 'BDI': ' Business Data & Innovation', 'BIOC': ' Biochemistry', 'BIOE': ' Bioengineering', 'BIOL': ' Biology', 'BIOP': ' Biophysics', 'BSE': ' Biomedical Sciences and Engineering', 'BTW': ' Business and Technical Writing', 'BULG': ' Bulgarian', 'BUS': ' Business', 'CAS': ' Center for Advanced Study', 'CATL': ' Catalan', 'CB': ' Comparative Biosciences', 'CDB': ' Cell and Developmental Biology', 'CEE': ' Civil and Environ Engineering', 'CHBE': ' Chemical and Biomolecular Engineering', 'CHEM': ' Chemistry', 'CHIN': ' Chinese', 'CHLH': ' Community Health', 'CHP': ' Campus Honors Program', 'CIC': ' Committee on Inst Cooperation', 'CI': ' Curriculum and Instruction', 'CLCV': ' Classical Civilization', 'CLE': ' Clinical Sciences and Engineering', 'CMN': ' Communication', 'CPSC': ' Crop Sciences', 'CS': ' Computer Science', 'CSE': ' Computational Science and Engineering', 'CW': ' Creative Writing', 'CWL': ' Comparative & World Literature', 'CZCH': ' Czech', 'DANC': ' Dance', 'DTX': ' Human', 'EALC': ' East Asian Languages & Cultures', 'ECE': ' Electrical and Computer Engineering', 'ECON': ' Economics', 'EDPR': ' Educational Practice', 'EDUC': ' Education', 'EIL': ' English as an Intl Language', 'ENG': ' Engineering', 'ENGL': ' English', 'ENSU': ' Environmental Sustainability', 'ENT': ' Entomology', 'ENVS': ' Environmental Studies', 'EOL': ' Educ Organization & Leadership', 'EPOL': ' Ed Policy, Org & Ldership', 'EPS': ' Educational Policy Studies', 'EPSY': ' Educational Psychology', 'ERAM': ' Education Research and Methods', 'ESE': ' Earth, Society, & Environment', 'ESL': ' English as a Second Language', 'ETMA': ' Engineering Technology & Management for Agricultural Systems', 'EURO': ' European Union Studies', 'FAA': ' Fine and Applied Arts', 'FIN': ' Finance', 'FLTE': ' Foreign Language Teacher Education', 'FR': ' French', 'FSHN': ' Food Science & Human Nutrition', 'GC': ' Graduate College', 'GEOL': ' Geology', 'GER': ' German', 'GGIS': ' Geography & Geographic Information Science', 'GLBL': ' Global Studies', 'GMC': ' Germanic', 'GRK': ' Greek', 'GRKM': ' Modern Greek', 'GSD': ' Game Studies and Design', 'GS': ' General Studies', 'GWS': \" Gender and Women's Studies\", 'HDES': ' Human Dimensions of Env Sys', 'HDFS': ' Human Dev and Family Studies', 'HEBR': ' Hebrew, Modern and Classical', 'HIST': ' History', 'HNDI': ' Hindi', 'HORT': ' Horticulture', 'HRD': ' Human Resource Development', 'HT': ' Health Technology', 'HUM': ' Humanities Courses', 'IB': ' Integrative Biology', 'IE': ' Industrial Engineering', 'IHLT': ' I', 'INFO': ' Informatics', 'IS': ' Information Sciences', 'ITAL': ' Italian', 'JAPN': ' Japanese', 'JOUR': ' Journalism', 'JS': ' Jewish Studies', 'KIN': ' Kinesiology', 'KOR': ' Korean', 'LA': ' Landscape Architecture', 'LAS': ' Liberal Arts and Sciences', 'LAST': ' Latin American & Caribbean St', 'LAT': ' Latin', 'LAW': ' Law', 'LCTL': ' Less Commonly Taught Languages', 'LEAD': ' Organizational & Community Leadership', 'LER': ' Labor and Employment Relations', 'LGLA': ' Lingala', 'LING': ' Linguistics', 'LLS': ' Latina/Latino Studies', 'MACS': ' Media and Cinema Studies', 'MATH': ' Mathematics', 'MBA': ' MBA Program', 'MCB': ' Molecular and Cell Biology', 'MDIA': ' Media', 'MDVL': ' Medieval Studies', 'ME': ' Mechanical Engineering', 'MFST': ' Metropolitan Food & Environmental Systems', 'MICR': ' Microbiology', 'MILS': ' Military Science', 'MIP': ' Moleculr & Integrative Physiology', 'MSE': ' Materials Science & Engineering', 'MSP': ' Medical Scholars Program', 'MUSC': ' Music Lessons and Ensembles', 'MUSE': ' Museum Studies', 'MUS': ' Music', 'NE': ' Neural Engineering', 'NEUR': ' Neuroscience', 'NPRE': ' Nuclear, Plasma, Radiological Engineering', 'NRES': ' Natural Resources & Environ Sc', 'NS': ' Naval Science', 'NUTR': ' Nutritional Sciences', 'PATH': ' Pathobiology', 'PBIO': ' Plant Biology', 'PERS': ' Persian', 'PHIL': ' Philosophy', 'PHYS': ' Physics', 'PLPA': ' Plant Pathology', 'POL': ' Polish', 'PORT': ' Portuguese', 'PSM': ' Professional Science Master', 'PS': ' Political Science', 'PSYC': ' Psychology', 'QUEC': ' Quechua', 'REES': ' Russian, East European and Eurasian Studies', 'REHB': ' Rehabilitation Counseling', 'REL': ' Religion', 'RHET': ' Rhetoric and Composition', 'RMLG': ' Romance Linguistics', 'RST': ' Recreation, Sport, and Tourism', 'RUSS': ' Russian', 'SAME': ' South Asian & Middle Eastern', 'SBC': ' Strategic Brand Communication', 'SCAN': ' Scandinavian', 'SE': ' Systems Engineering and Design', 'SHS': ' Speech and Hearing Science', 'SLAV': ' Slavic', 'SLCL': ' Literatures Cultures Linguistics', 'SNSK': ' Sanskrit', 'SOC': ' Sociology', 'SOCW': ' Social Work', 'SPAN': ' Spanish', 'SPED': ' Special Education', 'STAT': ' Statistics', 'SWAH': ' Swahili', 'TAM': ' Theoretical and Applied Mechanics', 'TE': ' Technology Entrepreneurship', 'THEA': ' Theatre', 'TMGT': ' Technology and Management', 'TRST': ' Translation Studies', 'TURK': ' Turkish', 'UKR': ' Ukrainian', 'UP': ' Urban and Regional Planning', 'VCM': ' Veterinary Clinical Medicine', 'VM': ' Veterinary Medicine Courses', 'WGGP': ' Women and Gender in Global Perspectives', 'WLOF': ' Wolof', 'WRIT': ' Writing Studies', 'YDSH': ' Yiddish', 'ZULU': ' Zulu'}\n"
     ]
    }
   ],
   "source": [
    "subjectsCode = []\n",
    "subjectsTitle = []\n",
    "Dict = {}\n",
    "\n",
    "with open(\"subjectCodes.txt\", \"r\") as f:\n",
    "    for line in f:\n",
    "        line = line.strip(\"\\n\")\n",
    "        line = line.strip(\"    \")\n",
    "        splitLine = line.split(\"-\")\n",
    "        print(splitLine)\n",
    "        splitLine[0] = splitLine[0].replace(\" \", \"\")\n",
    "        subjectsCode.append(splitLine[0])\n",
    "        subjectsTitle.append(splitLine[1])\n",
    "    \n",
    "    \n",
    "    \n",
    "\n",
    "subjectDict = dict(zip(subjectsCode, subjectsTitle))\n",
    "\n",
    "print(subjectDict)"
   ]
  },
  {
   "cell_type": "code",
   "execution_count": 39,
   "id": "0559c4ba",
   "metadata": {},
   "outputs": [],
   "source": [
    "import json\n",
    "\n",
    "\n",
    "import json\n",
    "with open('subjects.json', 'w') as fp:\n",
    "    json.dump(subjectDict, fp)\n"
   ]
  },
  {
   "cell_type": "code",
   "execution_count": null,
   "id": "0e622eb6",
   "metadata": {},
   "outputs": [],
   "source": []
  }
 ],
 "metadata": {
  "kernelspec": {
   "display_name": "Python 3 (ipykernel)",
   "language": "python",
   "name": "python3"
  },
  "language_info": {
   "codemirror_mode": {
    "name": "ipython",
    "version": 3
   },
   "file_extension": ".py",
   "mimetype": "text/x-python",
   "name": "python",
   "nbconvert_exporter": "python",
   "pygments_lexer": "ipython3",
   "version": "3.10.6"
  },
  "toc": {
   "base_numbering": 1,
   "nav_menu": {},
   "number_sections": true,
   "sideBar": true,
   "skip_h1_title": false,
   "title_cell": "Table of Contents",
   "title_sidebar": "Contents",
   "toc_cell": false,
   "toc_position": {},
   "toc_section_display": true,
   "toc_window_display": false
  }
 },
 "nbformat": 4,
 "nbformat_minor": 5
}
