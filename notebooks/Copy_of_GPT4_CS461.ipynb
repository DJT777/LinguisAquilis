{
  "nbformat": 4,
  "nbformat_minor": 0,
  "metadata": {
    "colab": {
      "provenance": []
    },
    "kernelspec": {
      "name": "python3",
      "display_name": "Python 3"
    },
    "language_info": {
      "name": "python"
    },
    "accelerator": "GPU",
    "gpuClass": "standard"
  },
  "cells": [
    {
      "cell_type": "code",
      "source": [
        "import json\n",
        "\n",
        "with open(\"cleaned.json\") as f:\n",
        "  courses = json.load(f)"
      ],
      "metadata": {
        "id": "vWcUIhnIYPwT"
      },
      "execution_count": null,
      "outputs": []
    },
    {
      "cell_type": "code",
      "source": [
        "for course in courses:\n",
        "  try:\n",
        "    with open(\"data/\"+course['course_dept'] + course['course_number'] + course['course_title']+\".txt\", \"w\") as file:\n",
        "        stringToWrite = \"\"\n",
        "        for key, value in course.items():\n",
        "            if value not in [None, \"\"]:\n",
        "                stringToWrite += f\"{key}: {value}\\n\"\n",
        "        file.write(stringToWrite)\n",
        "        print(stringToWrite)\n",
        "  except:\n",
        "    continue"
      ],
      "metadata": {
        "id": "9yEFHp5HYVqI"
      },
      "execution_count": null,
      "outputs": []
    },
    {
      "cell_type": "code",
      "source": [
        "\n",
        "import PIL\n",
        "!pip uninstall Pillow\n",
        "!pip install --upgrade Pillow\n",
        "print(PIL.__version__)\n",
        "\n"
      ],
      "metadata": {
        "id": "lZDKf2BEb9Fy"
      },
      "execution_count": null,
      "outputs": []
    },
    {
      "cell_type": "code",
      "execution_count": null,
      "metadata": {
        "colab": {
          "base_uri": "https://localhost:8080/"
        },
        "id": "GycQFJiRXwC8",
        "outputId": "f043a7ca-3570-461b-8074-da0fbdad59d0"
      },
      "outputs": [
        {
          "output_type": "stream",
          "name": "stderr",
          "text": [
            "WARNING:chromadb:Using embedded DuckDB without persistence: data will be transient\n"
          ]
        }
      ],
      "source": [
        "# Requirement\n",
        "!pip install openai -q\n",
        "!pip install langchain -q\n",
        "!pip install chromadb -q\n",
        "!pip install tiktoken -q\n",
        "!pip install pypdf -q\n",
        "!pip install unstructured[local-inference] -q\n",
        "!pip install gradio -q\n",
        "\n",
        "from langchain.embeddings.openai import OpenAIEmbeddings\n",
        "from langchain.vectorstores import Chroma\n",
        "from langchain.text_splitter import CharacterTextSplitter\n",
        "from langchain.chains import ConversationalRetrievalChain\n",
        "from langchain.chains.qa_with_sources import load_qa_with_sources_chain\n",
        "\n",
        "import os\n",
        "os.environ[\"OPENAI_API_KEY\"] = \"\"\n",
        "from langchain.chat_models import ChatOpenAI\n",
        "llm = ChatOpenAI(temperature=0,model_name=\"gpt-4\")\n",
        "\n",
        "# Data Ingestion\n",
        "from langchain.document_loaders import DirectoryLoader\n",
        "excel_loader = DirectoryLoader('./data', glob=\"*.txt\")\n",
        "loaders = [excel_loader]\n",
        "documents = []\n",
        "for loader in loaders:\n",
        "    documents.extend(loader.load())\n",
        "\n",
        "# Chunk and Embeddings\n",
        "text_splitter = CharacterTextSplitter(chunk_size=1000, chunk_overlap=0)\n",
        "documents = text_splitter.split_documents(documents)\n",
        "\n",
        "embeddings = OpenAIEmbeddings()\n",
        "vectorstore = Chroma.from_documents(documents, embeddings)\n",
        "\n"
      ]
    },
    {
      "cell_type": "code",
      "source": [
        "# Initialise Langchain - Conversation Retrieval Chain\n",
        "qa = ConversationalRetrievalChain.from_llm(ChatOpenAI(temperature=0), vectorstore.as_retriever())\n",
        "\n"
      ],
      "metadata": {
        "id": "32dNG2sYR87M"
      },
      "execution_count": null,
      "outputs": []
    },
    {
      "cell_type": "code",
      "source": [
        "# Front end web app\n",
        "import gradio as gr\n",
        "with gr.Blocks() as demo:\n",
        "    chatbot = gr.Chatbot()\n",
        "    msg = gr.Textbox()\n",
        "    clear = gr.Button(\"Clear\")\n",
        "    chat_history = []\n",
        "    \n",
        "    def user(user_message, history):\n",
        "        print(\"CHAT HISTORY \", chat_history)\n",
        "        print(\"HISTORY\", history)\n",
        "        history = [tuple(lst) for lst in history]\n",
        "        # Get response from QA chain\n",
        "        response = qa({\"question\": user_message, \"chat_history\": history})\n",
        "        # Append user message and response to chat history\n",
        "        history.append((user_message, response[\"answer\"]))\n",
        "\n",
        "        return gr.update(value=\"\"), history\n",
        "\n",
        "    msg.submit(user, [msg, chatbot], [msg, chatbot], queue=False)\n",
        "    clear.click(lambda: None, None, chatbot, queue=False)\n",
        "\n",
        "if __name__ == \"__main__\":\n",
        "    demo.launch(debug=True)"
      ],
      "metadata": {
        "colab": {
          "base_uri": "https://localhost:8080/",
          "height": 1000
        },
        "id": "sAdPb2AqbHjW",
        "outputId": "80277b13-7e07-4a0d-9d14-4691458a5c65"
      },
      "execution_count": null,
      "outputs": [
        {
          "output_type": "stream",
          "name": "stdout",
          "text": [
            "Colab notebook detected. This cell will run indefinitely so that you can see errors and logs. To turn off, set debug=False in launch().\n",
            "Note: opening Chrome Inspector may crash demo inside Colab notebooks.\n",
            "\n",
            "To create a public link, set `share=True` in `launch()`.\n"
          ]
        },
        {
          "output_type": "display_data",
          "data": {
            "text/plain": [
              "<IPython.core.display.Javascript object>"
            ],
            "application/javascript": [
              "(async (port, path, width, height, cache, element) => {\n",
              "                        if (!google.colab.kernel.accessAllowed && !cache) {\n",
              "                            return;\n",
              "                        }\n",
              "                        element.appendChild(document.createTextNode(''));\n",
              "                        const url = await google.colab.kernel.proxyPort(port, {cache});\n",
              "\n",
              "                        const external_link = document.createElement('div');\n",
              "                        external_link.innerHTML = `\n",
              "                            <div style=\"font-family: monospace; margin-bottom: 0.5rem\">\n",
              "                                Running on <a href=${new URL(path, url).toString()} target=\"_blank\">\n",
              "                                    https://localhost:${port}${path}\n",
              "                                </a>\n",
              "                            </div>\n",
              "                        `;\n",
              "                        element.appendChild(external_link);\n",
              "\n",
              "                        const iframe = document.createElement('iframe');\n",
              "                        iframe.src = new URL(path, url).toString();\n",
              "                        iframe.height = height;\n",
              "                        iframe.allow = \"autoplay; camera; microphone; clipboard-read; clipboard-write;\"\n",
              "                        iframe.width = width;\n",
              "                        iframe.style.border = 0;\n",
              "                        element.appendChild(iframe);\n",
              "                    })(7860, \"/\", \"100%\", 500, false, window.element)"
            ]
          },
          "metadata": {}
        },
        {
          "output_type": "stream",
          "name": "stdout",
          "text": [
            "CHAT HISTORY  []\n",
            "HISTORY []\n",
            "CHAT HISTORY  []\n",
            "HISTORY [['What languages are taught at the university?', 'The university offers courses in several languages, including Arabic, French, Spanish, and others. The specific languages offered may vary each term, so it’s best to check the course catalog or schedule for the current offerings.']]\n",
            "CHAT HISTORY  []\n",
            "HISTORY [['What languages are taught at the university?', 'The university offers courses in several languages, including Arabic, French, Spanish, and others. The specific languages offered may vary each term, so it’s best to check the course catalog or schedule for the current offerings.'], ['What programming languages are taught?', 'The university offers Spanish, Arabic, French, and Chinese. You can find more information about these courses, including course descriptions, credit hours, and prerequisites, in the university’s course catalog or on the university’s website.']]\n",
            "CHAT HISTORY  []\n",
            "HISTORY [['What languages are taught at the university?', 'The university offers courses in several languages, including Arabic, French, Spanish, and others. The specific languages offered may vary each term, so it’s best to check the course catalog or schedule for the current offerings.'], ['What programming languages are taught?', 'The university offers Spanish, Arabic, French, and Chinese. You can find more information about these courses, including course descriptions, credit hours, and prerequisites, in the university’s course catalog or on the university’s website.'], ['What poetry classes are taught?', 'The university offers several poetry classes, including ENG 303 Poetry Workshop, ENG 103 Fundamentals of Creative Writing, ENG 432 Twentieth-Century Poetry, and SPAN 414 Hispanic Poetry. You can find more information about these courses, including their descriptions, credits, prerequisites, and terms, in the university’s course catalog or on their website.']]\n",
            "CHAT HISTORY  []\n",
            "HISTORY [['What languages are taught at the university?', 'The university offers courses in several languages, including Arabic, French, Spanish, and others. The specific languages offered may vary each term, so it’s best to check the course catalog or schedule for the current offerings.'], ['What programming languages are taught?', 'The university offers Spanish, Arabic, French, and Chinese. You can find more information about these courses, including course descriptions, credit hours, and prerequisites, in the university’s course catalog or on the university’s website.'], ['What poetry classes are taught?', 'The university offers several poetry classes, including ENG 303 Poetry Workshop, ENG 103 Fundamentals of Creative Writing, ENG 432 Twentieth-Century Poetry, and SPAN 414 Hispanic Poetry. You can find more information about these courses, including their descriptions, credits, prerequisites, and terms, in the university’s course catalog or on their website.'], ['What programming courses are taught?', 'The university offers several programming courses, including CS 379: Programming Languages, ECE 217: Fundamentals of Computer Programming, CIS 487: Special Topics in CIS, and CS 201: Introduction to Object-Oriented Programming Using Java.']]\n",
            "CHAT HISTORY  []\n",
            "HISTORY [['What languages are taught at the university?', 'The university offers courses in several languages, including Arabic, French, Spanish, and others. The specific languages offered may vary each term, so it’s best to check the course catalog or schedule for the current offerings.'], ['What programming languages are taught?', 'The university offers Spanish, Arabic, French, and Chinese. You can find more information about these courses, including course descriptions, credit hours, and prerequisites, in the university’s course catalog or on the university’s website.'], ['What poetry classes are taught?', 'The university offers several poetry classes, including ENG 303 Poetry Workshop, ENG 103 Fundamentals of Creative Writing, ENG 432 Twentieth-Century Poetry, and SPAN 414 Hispanic Poetry. You can find more information about these courses, including their descriptions, credits, prerequisites, and terms, in the university’s course catalog or on their website.'], ['What programming courses are taught?', 'The university offers several programming courses, including CS 379: Programming Languages, ECE 217: Fundamentals of Computer Programming, CIS 487: Special Topics in CIS, and CS 201: Introduction to Object-Oriented Programming Using Java.'], ['I am interested in machine learning, what classes are there?', 'The university offers several machine learning classes. Some of them are:</p>\\n<ul>\\n<li>CIS 344: Automated Machine Learning for All</li>\\n<li>CS 461: Artificial Intelligence</li>\\n<li>CIS 366: Data Management for Business Intelligence &amp; Analytics</li>\\n<li>STAT 355: Principles of Data Mining</li>\\n</ul>\\n<p>Please note that these courses may not be offered every semester, and some of them may have prerequisites.']]\n",
            "CHAT HISTORY  []\n",
            "HISTORY [['What languages are taught at the university?', 'The university offers courses in several languages, including Arabic, French, Spanish, and others. The specific languages offered may vary each term, so it’s best to check the course catalog or schedule for the current offerings.'], ['What programming languages are taught?', 'The university offers Spanish, Arabic, French, and Chinese. You can find more information about these courses, including course descriptions, credit hours, and prerequisites, in the university’s course catalog or on the university’s website.'], ['What poetry classes are taught?', 'The university offers several poetry classes, including ENG 303 Poetry Workshop, ENG 103 Fundamentals of Creative Writing, ENG 432 Twentieth-Century Poetry, and SPAN 414 Hispanic Poetry. You can find more information about these courses, including their descriptions, credits, prerequisites, and terms, in the university’s course catalog or on their website.'], ['What programming courses are taught?', 'The university offers several programming courses, including CS 379: Programming Languages, ECE 217: Fundamentals of Computer Programming, CIS 487: Special Topics in CIS, and CS 201: Introduction to Object-Oriented Programming Using Java.'], ['I am interested in machine learning, what classes are there?', '<p>The university offers several machine learning classes. Some of them are:</p></p>\\n<ul>\\n<li>CIS 344: Automated Machine Learning for All</li>\\n<li>CS 461: Artificial Intelligence</li>\\n<li>CIS 366: Data Management for Business Intelligence &amp; Analytics</li>\\n<li>STAT 355: Principles of Data Mining</li>\\n</ul>\\n<p>Please note that these courses may not be offered every semester, and some of them may have prerequisites.'], ['Can you recommend any topics in studying african american history?', '<p>The university offers several African American history classes. Some of them are:</p>\\n<ul>\\n<li>HIST 337: African American History Since 1863</li>\\n<li>ENG 331: African American Literature</li>\\n<li>AFRC 111: Introduction to Africana Studies</li>\\n<li>HIST 332: Modern Latin American History (which includes the history of African-descended people in the United States)</li>\\n</ul>\\n']]\n",
            "CHAT HISTORY  []\n",
            "HISTORY [['What languages are taught at the university?', 'The university offers courses in several languages, including Arabic, French, Spanish, and others. The specific languages offered may vary each term, so it’s best to check the course catalog or schedule for the current offerings.'], ['What programming languages are taught?', 'The university offers Spanish, Arabic, French, and Chinese. You can find more information about these courses, including course descriptions, credit hours, and prerequisites, in the university’s course catalog or on the university’s website.'], ['What poetry classes are taught?', 'The university offers several poetry classes, including ENG 303 Poetry Workshop, ENG 103 Fundamentals of Creative Writing, ENG 432 Twentieth-Century Poetry, and SPAN 414 Hispanic Poetry. You can find more information about these courses, including their descriptions, credits, prerequisites, and terms, in the university’s course catalog or on their website.'], ['What programming courses are taught?', 'The university offers several programming courses, including CS 379: Programming Languages, ECE 217: Fundamentals of Computer Programming, CIS 487: Special Topics in CIS, and CS 201: Introduction to Object-Oriented Programming Using Java.'], ['I am interested in machine learning, what classes are there?', '<p>The university offers several machine learning classes. Some of them are:</p></p>\\n<ul>\\n<li>CIS 344: Automated Machine Learning for All</li>\\n<li>CS 461: Artificial Intelligence</li>\\n<li>CIS 366: Data Management for Business Intelligence &amp; Analytics</li>\\n<li>STAT 355: Principles of Data Mining</li>\\n</ul>\\n<p>Please note that these courses may not be offered every semester, and some of them may have prerequisites.'], ['Can you recommend any topics in studying african american history?', '<p>The university offers several African American history classes. Some of them are:</p>\\n<ul>\\n<li>HIST 337: African American History Since 1863</li>\\n<li>ENG 331: African American Literature</li>\\n<li>AFRC 111: Introduction to Africana Studies</li>\\n<li>HIST 332: Modern Latin American History (which includes the history of African-descended people in the United States)</li>\\n</ul>'], ['Give me the course description of each', 'I’m sorry, but I do not have any information about a machine learning course. However, the university offers several courses related to African American history, including “African American History Since 1863,” which examines the African American experience in the United States from 1863 to the present, and “African American Literature,” which examines the writing of Black writers from the 18th-century to the present across a range of genres. There is also “Introduction to Africana Studies,” which explores the past, present, and future of Africana Studies and the paradigms and perspectives that make up the discipline. Finally, there is “Modern Latin American History,” which explores the history of African-descended people in the United States from their first arrival in the North American colonies through the end of slavery during the U.S. Civil War.']]\n",
            "CHAT HISTORY  []\n",
            "HISTORY [['What languages are taught at the university?', 'The university offers courses in several languages, including Arabic, French, Spanish, and others. The specific languages offered may vary each term, so it’s best to check the course catalog or schedule for the current offerings.'], ['What programming languages are taught?', 'The university offers Spanish, Arabic, French, and Chinese. You can find more information about these courses, including course descriptions, credit hours, and prerequisites, in the university’s course catalog or on the university’s website.'], ['What poetry classes are taught?', 'The university offers several poetry classes, including ENG 303 Poetry Workshop, ENG 103 Fundamentals of Creative Writing, ENG 432 Twentieth-Century Poetry, and SPAN 414 Hispanic Poetry. You can find more information about these courses, including their descriptions, credits, prerequisites, and terms, in the university’s course catalog or on their website.'], ['What programming courses are taught?', 'The university offers several programming courses, including CS 379: Programming Languages, ECE 217: Fundamentals of Computer Programming, CIS 487: Special Topics in CIS, and CS 201: Introduction to Object-Oriented Programming Using Java.'], ['I am interested in machine learning, what classes are there?', '<p>The university offers several machine learning classes. Some of them are:</p></p>\\n<ul>\\n<li>CIS 344: Automated Machine Learning for All</li>\\n<li>CS 461: Artificial Intelligence</li>\\n<li>CIS 366: Data Management for Business Intelligence &amp; Analytics</li>\\n<li>STAT 355: Principles of Data Mining</li>\\n</ul>\\n<p>Please note that these courses may not be offered every semester, and some of them may have prerequisites.'], ['Can you recommend any topics in studying african american history?', '<p>The university offers several African American history classes. Some of them are:</p>\\n<ul>\\n<li>HIST 337: African American History Since 1863</li>\\n<li>ENG 331: African American Literature</li>\\n<li>AFRC 111: Introduction to Africana Studies</li>\\n<li>HIST 332: Modern Latin American History (which includes the history of African-descended people in the United States)</li>\\n</ul>'], ['Give me the course description of each', 'I’m sorry, but I do not have any information about a machine learning course. However, the university offers several courses related to African American history, including “African American History Since 1863,” which examines the African American experience in the United States from 1863 to the present, and “African American Literature,” which examines the writing of Black writers from the 18th-century to the present across a range of genres. There is also “Introduction to Africana Studies,” which explores the past, present, and future of Africana Studies and the paradigms and perspectives that make up the discipline. Finally, there is “Modern Latin American History,” which explores the history of African-descended people in the United States from their first arrival in the North American colonies through the end of slavery during the U.S. Civil War.'], ['I am interested in machine learning, what classes are there?', 'The university offers several machine learning classes, including CIS 344: Automated Machine Learning for All, CS 461: Artificial Intelligence, CIS 366: Data Management for Business Intelligence &amp; Analytics, and STAT 355: Principles of Data Mining.']]\n",
            "CHAT HISTORY  []\n",
            "HISTORY [['What languages are taught at the university?', 'The university offers courses in several languages, including Arabic, French, Spanish, and others. The specific languages offered may vary each term, so it’s best to check the course catalog or schedule for the current offerings.'], ['What programming languages are taught?', 'The university offers Spanish, Arabic, French, and Chinese. You can find more information about these courses, including course descriptions, credit hours, and prerequisites, in the university’s course catalog or on the university’s website.'], ['What poetry classes are taught?', 'The university offers several poetry classes, including ENG 303 Poetry Workshop, ENG 103 Fundamentals of Creative Writing, ENG 432 Twentieth-Century Poetry, and SPAN 414 Hispanic Poetry. You can find more information about these courses, including their descriptions, credits, prerequisites, and terms, in the university’s course catalog or on their website.'], ['What programming courses are taught?', 'The university offers several programming courses, including CS 379: Programming Languages, ECE 217: Fundamentals of Computer Programming, CIS 487: Special Topics in CIS, and CS 201: Introduction to Object-Oriented Programming Using Java.'], ['I am interested in machine learning, what classes are there?', '<p>The university offers several machine learning classes. Some of them are:</p></p>\\n<ul>\\n<li>CIS 344: Automated Machine Learning for All</li>\\n<li>CS 461: Artificial Intelligence</li>\\n<li>CIS 366: Data Management for Business Intelligence &amp; Analytics</li>\\n<li>STAT 355: Principles of Data Mining</li>\\n</ul>\\n<p>Please note that these courses may not be offered every semester, and some of them may have prerequisites.'], ['Can you recommend any topics in studying african american history?', '<p>The university offers several African American history classes. Some of them are:</p>\\n<ul>\\n<li>HIST 337: African American History Since 1863</li>\\n<li>ENG 331: African American Literature</li>\\n<li>AFRC 111: Introduction to Africana Studies</li>\\n<li>HIST 332: Modern Latin American History (which includes the history of African-descended people in the United States)</li>\\n</ul>'], ['Give me the course description of each', 'I’m sorry, but I do not have any information about a machine learning course. However, the university offers several courses related to African American history, including “African American History Since 1863,” which examines the African American experience in the United States from 1863 to the present, and “African American Literature,” which examines the writing of Black writers from the 18th-century to the present across a range of genres. There is also “Introduction to Africana Studies,” which explores the past, present, and future of Africana Studies and the paradigms and perspectives that make up the discipline. Finally, there is “Modern Latin American History,” which explores the history of African-descended people in the United States from their first arrival in the North American colonies through the end of slavery during the U.S. Civil War.'], ['I am interested in machine learning, what classes are there?', 'The university offers several machine learning classes, including CIS 344: Automated Machine Learning for All, CS 461: Artificial Intelligence, CIS 366: Data Management for Business Intelligence &amp; Analytics, and STAT 355: Principles of Data Mining.'], ['Give me the course description for CIS 366', 'I’m sorry, but I don’t have that information. The course descriptions I have are for CIS 111, CIS 487, CIS 367, and CIS 335.']]\n",
            "CHAT HISTORY  []\n",
            "HISTORY []\n",
            "CHAT HISTORY  []\n",
            "HISTORY [['What machine learning courses are available?', 'There are several machine learning courses available. Here are a few examples:</p>\\n<ul>\\n<li>CIS 344: Automated Machine Learning for All</li>\\n<li>CS 461: Artificial Intelligence</li>\\n<li>CIS 366: Data Management for Business Intelligence &amp; Analytics</li>\\n<li>IME 422: Automated Manufacturing</li>\\n</ul>\\n<p>Please note that these courses may have prerequisites and may not be offered every semester.']]\n",
            "CHAT HISTORY  []\n",
            "HISTORY []\n"
          ]
        }
      ]
    },
    {
      "cell_type": "code",
      "source": [
        "\"\""
      ],
      "metadata": {
        "id": "zni-eXcsgJP_"
      },
      "execution_count": null,
      "outputs": []
    }
  ]
}